{
 "cells": [
  {
   "cell_type": "markdown",
   "metadata": {},
   "source": [
    "### Задание: кликаем по checkboxes и radiobuttons (капча для роботов)  \n",
    "\n",
    "Продолжим использовать силу роботов 🤖 для решения повседневных задач. На данной странице   \n",
    "http://suninjuly.github.io/math.html мы добавили капчу для роботов, то есть тест, являющийся   \n",
    "простым для компьютера, но сложным для человека.   \n",
    "\n",
    "Ваша программа должна выполнить следующие шаги:  \n",
    "\n",
    "1. Открыть страницу http://suninjuly.github.io/math.html.  \n",
    "2. Считать значение для переменной x.  \n",
    "3. Посчитать математическую функцию от x (код для этого приведён ниже).  \n",
    "4. Ввести ответ в текстовое поле.  \n",
    "5. Отметить checkbox \"I'm the robot\".  \n",
    "6. Выбрать radiobutton \"Robots rule!\".  \n",
    "7. Нажать на кнопку Submit.  \n",
    "\n",
    "Для этой задачи вам понадобится использовать атрибут .text для найденного элемента.   \n",
    "Обратите внимание, что скобки здесь не нужны:  \n",
    "\n",
    "x_element = browser.find_element_by_*(selector)  \n",
    "x = x_element.text  \n",
    "y = calc(x)  \n",
    "\n",
    "Атрибут text возвращает текст, который находится между открывающим и закрывающим тегами   \n",
    "элемента. Например, text для данного элемента $\\text{<div class=\"message\">У вас новое сообщение.</div>}$  \n",
    "вернёт строку: \"У вас новое сообщение\".  \n",
    "\n",
    "Используйте функцию calc(), которая рассчитает и вернет вам значение функции,   \n",
    "которое нужно ввести в текстовое поле. Не забудьте добавить этот код в начало вашего скрипта:  \n",
    "\n",
    "import math  \n",
    "\n",
    "def calc(x):  \n",
    "  return str(math.log(abs(12*math.sin(int(x)))))  \n",
    "  \n",
    "Если все сделано правильно и достаточно быстро (в этой задаче тоже есть ограничение по времени),   \n",
    "вы увидите окно с числом. Скопируйте его в поле ниже.   "
   ]
  },
  {
   "cell_type": "code",
   "execution_count": 11,
   "metadata": {},
   "outputs": [],
   "source": [
    "import math\n",
    "from selenium import webdriver\n",
    "import time \n",
    "\n",
    "link = \"http://suninjuly.github.io/math.html\"\n",
    "\n",
    "try:\n",
    "    def calc(x):\n",
    "        return str(math.log(abs(12*math.sin(int(x)))))\n",
    "        \n",
    "    browser = webdriver.Chrome()\n",
    "    browser.get(link)\n",
    "    \n",
    "    x_element = browser.find_element_by_id(\"input_value\")\n",
    "    x = x_element.text\n",
    "    y = calc(x)\n",
    "    \n",
    "    input1 = browser.find_element_by_id(\"answer\")\n",
    "    input1.send_keys(y)\n",
    "    \n",
    "    option1 = browser.find_element_by_css_selector('[id=\"robotCheckbox\"]')\n",
    "    option1.click()\n",
    "    \n",
    "    option2 = browser.find_element_by_css_selector('[id=\"robotsRule\"]')\n",
    "    option2.click()\n",
    "    \n",
    "    button = browser.find_element_by_css_selector('button.btn.btn-default')\n",
    "    button.click()\n",
    "\n",
    "\n",
    "finally:\n",
    "    # успеваем скопировать код за 30 секунд\n",
    "    time.sleep(30)\n",
    "    # закрываем браузер после всех манипуляций\n",
    "    browser.quit()\n",
    "\n",
    "# не забываем оставить пустую строку в конце файла\n"
   ]
  },
  {
   "cell_type": "markdown",
   "metadata": {},
   "source": [
    "#### Ответ: 28.825645411698943"
   ]
  },
  {
   "cell_type": "code",
   "execution_count": null,
   "metadata": {},
   "outputs": [],
   "source": []
  }
 ],
 "metadata": {
  "kernelspec": {
   "display_name": "Python 3",
   "language": "python",
   "name": "python3"
  },
  "language_info": {
   "codemirror_mode": {
    "name": "ipython",
    "version": 3
   },
   "file_extension": ".py",
   "mimetype": "text/x-python",
   "name": "python",
   "nbconvert_exporter": "python",
   "pygments_lexer": "ipython3",
   "version": "3.7.3"
  }
 },
 "nbformat": 4,
 "nbformat_minor": 2
}
