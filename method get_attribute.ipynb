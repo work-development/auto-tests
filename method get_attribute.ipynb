{
 "cells": [
  {
   "cell_type": "markdown",
   "metadata": {},
   "source": [
    "### Задание: поиск сокровища с помощью get_attribute   \n",
    "\n",
    "В данной задаче вам нужно с помощью роботов решить ту же математическую задачу,   \n",
    "как и в прошлом задании. Но теперь значение переменной х спрятано в \"сундуке\",   \n",
    "точнее, значение хранится в атрибуте valuex у картинки с изображением сундука.  \n",
    "\n",
    "Ваша программа должна:   \n",
    "\n",
    "1. Открыть страницу http://suninjuly.github.io/get_attribute.html.  \n",
    "2. Найти на ней элемент-картинку, который является изображением сундука с сокровищами.  \n",
    "3. Взять у этого элемента значение атрибута valuex, которое является значением x для задачи.  \n",
    "4. Посчитать математическую функцию от x (сама функция остаётся неизменной).  \n",
    "5. Ввести ответ в текстовое поле.  \n",
    "6. Отметить checkbox \"I'm the robot\".  \n",
    "7. Выбрать radiobutton \"Robots rule!\".  \n",
    "8. Нажать на кнопку \"Submit\".  \n",
    "\n",
    "Для вычисления значения выражения в п.4 используйте функцию calc(x) из предыдущей задачи.  \n",
    "\n",
    "Если все сделано правильно и достаточно быстро (в этой задаче тоже есть ограничение по времени),   \n",
    "вы увидите окно с числом. Скопируйте его в поле ниже и нажмите кнопку \"Submit\",   \n",
    "чтобы получить баллы за задание.  "
   ]
  },
  {
   "cell_type": "code",
   "execution_count": 1,
   "metadata": {},
   "outputs": [],
   "source": [
    "import math\n",
    "from selenium import webdriver\n",
    "import time \n",
    "\n",
    "link = \"http://suninjuly.github.io/get_attribute.html\"\n",
    "\n",
    "try:\n",
    "    def calc(x):\n",
    "        return str(math.log(abs(12*math.sin(int(x)))))\n",
    "        \n",
    "    browser = webdriver.Chrome()\n",
    "    browser.get(link)\n",
    "    \n",
    "    robots_radio = browser.find_element_by_id(\"treasure\")\n",
    "    robots_checked = robots_radio.get_attribute(\"valuex\")\n",
    "    \n",
    "    y = calc(robots_checked)\n",
    "    \n",
    "    input1 = browser.find_element_by_id(\"answer\")\n",
    "    input1.send_keys(y)\n",
    "    \n",
    "    option1 = browser.find_element_by_css_selector('[id=\"robotCheckbox\"]')\n",
    "    option1.click()\n",
    "    \n",
    "    option2 = browser.find_element_by_css_selector('[id=\"robotsRule\"]')\n",
    "    option2.click()\n",
    "    \n",
    "    button = browser.find_element_by_css_selector('button.btn.btn-default')\n",
    "    button.click()\n",
    "\n",
    "\n",
    "finally:\n",
    "    # успеваем скопировать код за 30 секунд\n",
    "    time.sleep(30)\n",
    "    # закрываем браузер после всех манипуляций\n",
    "    browser.quit()\n",
    "\n",
    "# не забываем оставить пустую строку в конце файла"
   ]
  },
  {
   "cell_type": "markdown",
   "metadata": {},
   "source": [
    "#### Ответ: 28.826677228153677"
   ]
  },
  {
   "cell_type": "code",
   "execution_count": null,
   "metadata": {},
   "outputs": [],
   "source": []
  }
 ],
 "metadata": {
  "kernelspec": {
   "display_name": "Python 3",
   "language": "python",
   "name": "python3"
  },
  "language_info": {
   "codemirror_mode": {
    "name": "ipython",
    "version": 3
   },
   "file_extension": ".py",
   "mimetype": "text/x-python",
   "name": "python",
   "nbconvert_exporter": "python",
   "pygments_lexer": "ipython3",
   "version": "3.7.3"
  }
 },
 "nbformat": 4,
 "nbformat_minor": 2
}
