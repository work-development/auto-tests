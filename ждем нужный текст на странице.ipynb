{
 "cells": [
  {
   "cell_type": "markdown",
   "metadata": {},
   "source": [
    "### Задание: ждем нужный текст на странице   \n",
    "\n",
    "Попробуем теперь написать программу, которая будет бронировать нам дом для отдыха по   \n",
    "строго заданной цене. Более высокая цена нас не устраивает, а по более низкой цене   \n",
    "объект успеет забронировать кто-то другой.  \n",
    "\n",
    "В этой задаче вам нужно написать программу, которая будет выполнять следующий сценарий:   \n",
    "\n",
    "1. Открыть страницу http://suninjuly.github.io/explicit_wait2.html  \n",
    "2. Дождаться, когда цена дома уменьшится до $100 (ожидание нужно установить не меньше 12 секунд)  \n",
    "3. Нажать на кнопку \"Book\"  \n",
    "4. Решить уже известную нам математическую задачу (используйте ранее написанный код) и отправить решение   \n",
    "\n",
    "Чтобы определить момент, когда цена аренды уменьшится до $100, используйте метод   \n",
    "text_to_be_present_in_element из библиотеки expected_conditions.  \n",
    "\n",
    "Если все сделано правильно и быстро, то вы увидите окно с числом.   \n",
    "Отправьте его в качестве ответа на это задание."
   ]
  },
  {
   "cell_type": "code",
   "execution_count": null,
   "metadata": {},
   "outputs": [],
   "source": [
    "import time\n",
    "import math\n",
    "from selenium.webdriver.common.by import By\n",
    "from selenium.webdriver.support.ui import WebDriverWait\n",
    "from selenium.webdriver.support import expected_conditions as EC\n",
    "from selenium import webdriver\n",
    "\n",
    "link = \"http://suninjuly.github.io/explicit_wait2.html\"\n",
    "\n",
    "try:\n",
    "    \n",
    "    \n",
    "    def calc(x):\n",
    "        return str(math.log(abs(12*math.sin(int(x)))))\n",
    "\n",
    "    browser = webdriver.Chrome()\n",
    "    browser.get(link)\n",
    "    \n",
    "    button = WebDriverWait(browser, 20).until(\n",
    "        EC.text_to_be_present_in_element((By.ID, \"price\"), '100')\n",
    "    )\n",
    "        \n",
    "    button = browser.find_element_by_id('book')\n",
    "    button.click()\n",
    "        \n",
    "    x_element = browser.find_element_by_id(\"input_value\")\n",
    "    x = x_element.text\n",
    "    y = calc(x)\n",
    "    \n",
    "    input1= browser.find_element_by_id(\"answer\")\n",
    "    input1.send_keys(y)\n",
    "            \n",
    "    button= browser.find_element_by_id('solve')\n",
    "    button.click()\n",
    "\n",
    "finally:\n",
    "    time.sleep(15)\n",
    "    browser.quit()"
   ]
  },
  {
   "cell_type": "code",
   "execution_count": null,
   "metadata": {},
   "outputs": [],
   "source": [
    "<button id=\"solve\" type=\"submit\" class=\"btn btn-primary\" disabled=\"disabled\">Submit</button>"
   ]
  },
  {
   "cell_type": "code",
   "execution_count": null,
   "metadata": {},
   "outputs": [],
   "source": []
  }
 ],
 "metadata": {
  "kernelspec": {
   "display_name": "Python 3",
   "language": "python",
   "name": "python3"
  },
  "language_info": {
   "codemirror_mode": {
    "name": "ipython",
    "version": 3
   },
   "file_extension": ".py",
   "mimetype": "text/x-python",
   "name": "python",
   "nbconvert_exporter": "python",
   "pygments_lexer": "ipython3",
   "version": "3.7.3"
  }
 },
 "nbformat": 4,
 "nbformat_minor": 2
}
