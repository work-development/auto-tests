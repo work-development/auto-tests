{
 "cells": [
  {
   "cell_type": "markdown",
   "metadata": {},
   "source": [
    "### Задание: загрузка файла   \n",
    "\n",
    "В этом задании в форме регистрации требуется загрузить текстовый файл.  \n",
    "\n",
    "Напишите скрипт, который будет выполнять следующий сценарий:  \n",
    "\n",
    "1. Открыть страницу http://suninjuly.github.io/file_input.html  \n",
    "2. Заполнить текстовые поля: имя, фамилия, email  \n",
    "3. Загрузить файл. Файл должен иметь расширение .txt и может быть пустым  \n",
    "4. Нажать кнопку \"Submit\"  \n",
    "\n",
    "Если все сделано правильно и быстро, вы увидите окно с числом. Отправьте   \n",
    "полученное число в качестве ответа для этого задания."
   ]
  },
  {
   "cell_type": "code",
   "execution_count": 2,
   "metadata": {},
   "outputs": [],
   "source": [
    "import os\n",
    "import time\n",
    "from selenium import webdriver\n",
    "\n",
    "link = \"http://suninjuly.github.io/file_input.html\"\n",
    "\n",
    "try:\n",
    "     \n",
    "    browser = webdriver.Chrome()\n",
    "    browser.get(link)\n",
    "    \n",
    "    input1 = browser.find_element_by_name(\"firstname\")\n",
    "    input1.send_keys(\"Ivan\")\n",
    "    input2 = browser.find_element_by_name(\"lastname\")\n",
    "    input2.send_keys(\"Petrov\")\n",
    "    input3 = browser.find_element_by_name(\"email\")\n",
    "    input3.send_keys(\"...@...\")\n",
    "    \n",
    "    \"\"\"\n",
    "    получаем путь к директории текущего исполняемого файла можно еще и с помощью\n",
    "    os.getcwd() [файл с кодом лежит там же где Python (?)]\n",
    "    \"\"\"\n",
    "    \n",
    "    current_dir = os.path.abspath(os.path.dirname('__file__')) \n",
    "    file_path = os.path.join(current_dir, 'TEST1.txt')           # добавляем к этому пути имя файла \n",
    "    element = browser.find_element_by_id(\"file\")\n",
    "    element.send_keys(file_path)\n",
    "\n",
    "    button = browser.find_element_by_css_selector(\"button.btn.btn-primary\")\n",
    "    button.click()\n",
    "    \n",
    "\n",
    "finally:\n",
    "    # успеваем скопировать код за 30 секунд\n",
    "    time.sleep(30)\n",
    "    # закрываем браузер после всех манипуляций\n",
    "    browser.quit()\n",
    "\n",
    "# не забываем оставить пустую строку в конце файла\n"
   ]
  },
  {
   "cell_type": "code",
   "execution_count": null,
   "metadata": {},
   "outputs": [],
   "source": []
  }
 ],
 "metadata": {
  "kernelspec": {
   "display_name": "Python 3",
   "language": "python",
   "name": "python3"
  },
  "language_info": {
   "codemirror_mode": {
    "name": "ipython",
    "version": 3
   },
   "file_extension": ".py",
   "mimetype": "text/x-python",
   "name": "python",
   "nbconvert_exporter": "python",
   "pygments_lexer": "ipython3",
   "version": "3.7.3"
  }
 },
 "nbformat": 4,
 "nbformat_minor": 2
}
