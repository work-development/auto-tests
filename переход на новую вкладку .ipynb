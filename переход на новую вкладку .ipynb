{
 "cells": [
  {
   "cell_type": "markdown",
   "metadata": {},
   "source": [
    "### Задание: переход на новую вкладку   \n",
    "\n",
    "В этом задании после нажатия кнопки страница откроется в новой вкладке, нужно переключить   \n",
    "WebDriver на новую вкладку и решить в ней задачу.  \n",
    "\n",
    "Сценарий для реализации выглядит так:   \n",
    "\n",
    "1. Открыть страницу http://suninjuly.github.io/redirect_accept.html  \n",
    "2. Нажать на кнопку  \n",
    "3. Переключиться на новую вкладку  \n",
    "4. Пройти капчу для робота и получить число-ответ  \n",
    "\n",
    "Если все сделано правильно и достаточно быстро (в этой задаче тоже есть ограничение по времени),   \n",
    "вы увидите окно с числом. Отправьте полученное число в качестве ответа на это задание.  "
   ]
  },
  {
   "cell_type": "code",
   "execution_count": null,
   "metadata": {},
   "outputs": [
    {
     "name": "stdout",
     "output_type": "stream",
     "text": [
      "['CDwindow-DDF1D07144629D40E57E58262B3016C3', 'CDwindow-D04754F7F849840F840CED35E3216C61']\n"
     ]
    }
   ],
   "source": [
    "import math\n",
    "import time\n",
    "from selenium import webdriver\n",
    "\n",
    "link = \"http://suninjuly.github.io/redirect_accept.html\"\n",
    "\n",
    "\n",
    "try:\n",
    "    def calc(x):\n",
    "        return str(math.log(abs(12*math.sin(int(x)))))\n",
    "        \n",
    "    browser = webdriver.Chrome()\n",
    "    browser.get(link)\n",
    "    \n",
    "    button = browser.find_element_by_css_selector('.trollface.btn.btn-primary')   \n",
    "    button.click()\n",
    "    \n",
    "    new_window = browser.window_handles[1]\n",
    "    browser.switch_to.window(new_window)\n",
    "    print(browser.window_handles)\n",
    "    \n",
    "    x_element = browser.find_element_by_id(\"input_value\")\n",
    "    x = x_element.text\n",
    "    y = calc(x)\n",
    "    \n",
    "    input1 = browser.find_element_by_id(\"answer\")\n",
    "    input1.send_keys(y)\n",
    "    \n",
    "    \n",
    "    button = browser.find_element_by_css_selector('button.btn.btn-primary')\n",
    "    button.click()\n",
    "\n",
    "finally:\n",
    "    time.sleep(12)\n",
    "    browser.quit()\n",
    "    \n",
    "    \"\"\"\n",
    "    alert = browser.switch_to.alert\n",
    "    alert_text = alert.text\n",
    "    answer = float(alert_text.split(' ')[-1])\n",
    "    \n",
    "    \n",
    "\n",
    "finally:\n",
    "    \n",
    "    time.sleep(12)\n",
    "    browser.quit()\n",
    "    \"\"\""
   ]
  },
  {
   "cell_type": "code",
   "execution_count": null,
   "metadata": {},
   "outputs": [],
   "source": []
  }
 ],
 "metadata": {
  "kernelspec": {
   "display_name": "Python 3",
   "language": "python",
   "name": "python3"
  },
  "language_info": {
   "codemirror_mode": {
    "name": "ipython",
    "version": 3
   },
   "file_extension": ".py",
   "mimetype": "text/x-python",
   "name": "python",
   "nbconvert_exporter": "python",
   "pygments_lexer": "ipython3",
   "version": "3.7.3"
  }
 },
 "nbformat": 4,
 "nbformat_minor": 2
}
