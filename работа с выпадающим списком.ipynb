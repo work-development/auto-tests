{
 "cells": [
  {
   "cell_type": "markdown",
   "metadata": {},
   "source": [
    "### Задание: работа с выпадающим списком   \n",
    "\n",
    "Для этой задачи мы придумали еще один вариант капчи для роботов. Придется немного   \n",
    "переобучить нашего робота, чтобы он справился с новым заданием.  \n",
    "\n",
    "Напишите код, который реализует следующий сценарий:   \n",
    "\n",
    "1. Открыть страницу http://suninjuly.github.io/selects1.html  \n",
    "2. Посчитать сумму заданных чисел  \n",
    "3. Выбрать в выпадающем списке значение равное расчитанной сумме  \n",
    "4. Нажать кнопку \"Submit\"  \n",
    "\n",
    "Если все сделано правильно и достаточно быстро (в этой задаче тоже есть ограничение   \n",
    "по времени), вы увидите окно с числом. Отправьте полученное число в качестве   \n",
    "ответа для этого задания.  \n",
    "\n",
    "Когда ваш код заработает, попробуйте запустить его на странице   \n",
    "http://suninjuly.github.io/selects2.html. Ваш код и для нее тоже должен пройти успешно.  "
   ]
  },
  {
   "cell_type": "code",
   "execution_count": 3,
   "metadata": {},
   "outputs": [],
   "source": [
    "from selenium.webdriver.support.ui import Select\n",
    "from selenium import webdriver\n",
    "import time \n",
    "\n",
    "link = \"http://suninjuly.github.io/selects1.html\"\n",
    "\n",
    "try:\n",
    "        \n",
    "    browser = webdriver.Chrome()\n",
    "    browser.get(link)\n",
    "    \n",
    "    first_number  = browser.find_element_by_id(\"num1\")\n",
    "    second_number = browser.find_element_by_id(\"num2\")\n",
    "    \n",
    "    sum_= int(first_number.text) + int(second_number.text)\n",
    "    \n",
    "    \n",
    "    select = Select(browser.find_element_by_tag_name(\"select\"))\n",
    "    select.select_by_value(f\"{sum_}\") \n",
    "    \n",
    "    button = browser.find_element_by_css_selector('button.btn.btn-default')\n",
    "    button.click()\n",
    "\n",
    "\n",
    "finally:\n",
    "    # успеваем скопировать код за 30 секунд\n",
    "    time.sleep(30)\n",
    "    # закрываем браузер после всех манипуляций\n",
    "    browser.quit()\n",
    "\n",
    "# не забываем оставить пустую строку в конце файла"
   ]
  },
  {
   "cell_type": "code",
   "execution_count": null,
   "metadata": {},
   "outputs": [],
   "source": []
  }
 ],
 "metadata": {
  "kernelspec": {
   "display_name": "Python 3",
   "language": "python",
   "name": "python3"
  },
  "language_info": {
   "codemirror_mode": {
    "name": "ipython",
    "version": 3
   },
   "file_extension": ".py",
   "mimetype": "text/x-python",
   "name": "python",
   "nbconvert_exporter": "python",
   "pygments_lexer": "ipython3",
   "version": "3.7.3"
  }
 },
 "nbformat": 4,
 "nbformat_minor": 2
}
